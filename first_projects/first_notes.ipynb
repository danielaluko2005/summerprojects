{
 "cells": [
  {
   "cell_type": "markdown",
   "metadata": {},
   "source": [
    "### Self dev.\n",
    "# Online book system. \n",
    "# Users have a library of books thst they can add or remove from.\n",
    "# Users can set a book on active. \n",
    "\n",
    "\n",
    "# Write a code in which the company has a set amount of books. \n",
    "# Verify if the person has paid for the book.\n",
    "# Then write another code that shows the users what book to pick and when they pick them they can open the book or close it. "
   ]
  }
 ],
 "metadata": {
  "language_info": {
   "name": "python"
  },
  "orig_nbformat": 4
 },
 "nbformat": 4,
 "nbformat_minor": 2
}
